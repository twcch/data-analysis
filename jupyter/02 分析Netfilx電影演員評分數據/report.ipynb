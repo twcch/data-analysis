{
 "cells": [
  {
   "cell_type": "markdown",
   "id": "db434ad1-e865-4826-a3ae-4f8d60ca0715",
   "metadata": {},
   "source": [
    "# 項目：分析Netfilx電影演員評分數據"
   ]
  },
  {
   "cell_type": "markdown",
   "id": "59b32924-29e5-405c-b54c-7aec4fec47e7",
   "metadata": {},
   "source": [
    "## 分析目標"
   ]
  },
  {
   "cell_type": "markdown",
   "id": "581f75c1-8d8a-41ba-ad6a-5038d68e15cd",
   "metadata": {},
   "source": [
    "此數據分析的目的是，整理不同流派影視作品，如喜劇片、動作片或科幻片中，各演員出演作品的平均IMDB評分，從而挖掘各個流派中的高評分作品演員。"
   ]
  },
  {
   "cell_type": "markdown",
   "id": "8233ddc8-fc6c-4bc9-830d-16f990743bc3",
   "metadata": {},
   "source": [
    "## 簡介"
   ]
  },
  {
   "cell_type": "markdown",
   "id": "9a7a16e3-ae7c-4db3-a899-7c66ad208a9b",
   "metadata": {},
   "source": [
    "原始數據集紀錄了截止至2022年7月美國地區可觀看的所有Netfilx電視劇及電影數據。數據集包含兩個數據表：`titles.csv`和`credits.csv`。  \n",
    "\n",
    "`titles.csv`包含電影及電視劇相關資訊，包含影視作品ID、標題、類型、描述、流派、IMDB評分等。\n",
    "`credits.csv`包含超過7萬名出現在Netfilx影視作品的導演及演員資訊，包括名字、影視作品ID、人物名、演職員(導演/演員)類型等。  \n",
    "\n",
    "`titles.csv`欄位的含義如下：  \n",
    "\n",
    "- `id`：影視作品ID。\n",
    "- `title`：影視作品標題。\n",
    "- `show_type`：作品類型、電視節目或電影。\n",
    "- `description`：簡短描述。\n",
    "- `release_year`：發布年份。\n",
    "- `age_certification`：適齡認證。\n",
    "- `runtime`：每集電視劇或電影的長度。\n",
    "- `genres`：流派類型列表。\n",
    "- `production_countries`：出品國家列表。\n",
    "- `seasons`：如果是電視劇，則為季數。\n",
    "- `imdb_id`：IMDB的ID。\n",
    "- `imdb_score`：IMDB的評分。\n",
    "- `imdb_votes`：IMDB的投票數。\n",
    "- `tmdb_popularity`：TMDB的流行度。\n",
    "- `tmdb_score`：TMDB的評分。\n",
    "\n",
    "`credits.csv`欄位的含義如下：  \n",
    "\n",
    "- `person_ID`：演職員ID。\n",
    "- `id`：參與的影視作品ID。\n",
    "- `name`：姓名。\n",
    "- `character_name`：角色姓名。\n",
    "- `role`：演職員類型，演員或導演。。"
   ]
  },
  {
   "cell_type": "markdown",
   "id": "595c38b1-2c61-4266-9b5b-cd333935872f",
   "metadata": {},
   "source": [
    "## 讀取數據 "
   ]
  },
  {
   "cell_type": "markdown",
   "id": "ecd85c21-141a-4d55-97d3-9d367b77f21e",
   "metadata": {},
   "source": [
    "導入數據分析所需的函示庫，並透過Pandas的`read_csv`函數，將原始數據文件\"titles.csv\"里的數據內容，解析為DataFrame並賦值給變量`original_titles`。  \n",
    "將原始數據文件\"credits_csv\"里的數據內容，解析為DataFrame並賦值給變量`original_credits`。"
   ]
  },
  {
   "cell_type": "code",
   "execution_count": 1,
   "id": "fc045afd-2164-467d-bd55-580ce092cec8",
   "metadata": {},
   "outputs": [],
   "source": [
    "import pandas as pd"
   ]
  },
  {
   "cell_type": "code",
   "execution_count": 2,
   "id": "38934363-2845-4842-8bfa-f23af1882227",
   "metadata": {},
   "outputs": [],
   "source": [
    "original_titles = pd.read_csv(\"titles.csv\")\n",
    "original_credits = pd.read_csv(\"credits.csv\")"
   ]
  },
  {
   "cell_type": "code",
   "execution_count": 3,
   "id": "2c3baddc-71aa-46f2-bf29-f039b6e05100",
   "metadata": {},
   "outputs": [
    {
     "data": {
      "text/html": [
       "<div>\n",
       "<style scoped>\n",
       "    .dataframe tbody tr th:only-of-type {\n",
       "        vertical-align: middle;\n",
       "    }\n",
       "\n",
       "    .dataframe tbody tr th {\n",
       "        vertical-align: top;\n",
       "    }\n",
       "\n",
       "    .dataframe thead th {\n",
       "        text-align: right;\n",
       "    }\n",
       "</style>\n",
       "<table border=\"1\" class=\"dataframe\">\n",
       "  <thead>\n",
       "    <tr style=\"text-align: right;\">\n",
       "      <th></th>\n",
       "      <th>id</th>\n",
       "      <th>title</th>\n",
       "      <th>type</th>\n",
       "      <th>description</th>\n",
       "      <th>release_year</th>\n",
       "      <th>age_certification</th>\n",
       "      <th>runtime</th>\n",
       "      <th>genres</th>\n",
       "      <th>production_countries</th>\n",
       "      <th>seasons</th>\n",
       "      <th>imdb_id</th>\n",
       "      <th>imdb_score</th>\n",
       "      <th>imdb_votes</th>\n",
       "      <th>tmdb_popularity</th>\n",
       "      <th>tmdb_score</th>\n",
       "    </tr>\n",
       "  </thead>\n",
       "  <tbody>\n",
       "    <tr>\n",
       "      <th>0</th>\n",
       "      <td>ts300399</td>\n",
       "      <td>Five Came Back: The Reference Films</td>\n",
       "      <td>SHOW</td>\n",
       "      <td>This collection includes 12 World War II-era p...</td>\n",
       "      <td>1945</td>\n",
       "      <td>TV-MA</td>\n",
       "      <td>51</td>\n",
       "      <td>['documentation']</td>\n",
       "      <td>['US']</td>\n",
       "      <td>1.0</td>\n",
       "      <td>NaN</td>\n",
       "      <td>NaN</td>\n",
       "      <td>NaN</td>\n",
       "      <td>0.600</td>\n",
       "      <td>NaN</td>\n",
       "    </tr>\n",
       "    <tr>\n",
       "      <th>1</th>\n",
       "      <td>tm84618</td>\n",
       "      <td>Taxi Driver</td>\n",
       "      <td>MOVIE</td>\n",
       "      <td>A mentally unstable Vietnam War veteran works ...</td>\n",
       "      <td>1976</td>\n",
       "      <td>R</td>\n",
       "      <td>114</td>\n",
       "      <td>['drama', 'crime']</td>\n",
       "      <td>['US']</td>\n",
       "      <td>NaN</td>\n",
       "      <td>tt0075314</td>\n",
       "      <td>8.2</td>\n",
       "      <td>808582.0</td>\n",
       "      <td>40.965</td>\n",
       "      <td>8.179</td>\n",
       "    </tr>\n",
       "    <tr>\n",
       "      <th>2</th>\n",
       "      <td>tm154986</td>\n",
       "      <td>Deliverance</td>\n",
       "      <td>MOVIE</td>\n",
       "      <td>Intent on seeing the Cahulawassee River before...</td>\n",
       "      <td>1972</td>\n",
       "      <td>R</td>\n",
       "      <td>109</td>\n",
       "      <td>['drama', 'action', 'thriller', 'european']</td>\n",
       "      <td>['US']</td>\n",
       "      <td>NaN</td>\n",
       "      <td>tt0068473</td>\n",
       "      <td>7.7</td>\n",
       "      <td>107673.0</td>\n",
       "      <td>10.010</td>\n",
       "      <td>7.300</td>\n",
       "    </tr>\n",
       "    <tr>\n",
       "      <th>3</th>\n",
       "      <td>tm127384</td>\n",
       "      <td>Monty Python and the Holy Grail</td>\n",
       "      <td>MOVIE</td>\n",
       "      <td>King Arthur, accompanied by his squire, recrui...</td>\n",
       "      <td>1975</td>\n",
       "      <td>PG</td>\n",
       "      <td>91</td>\n",
       "      <td>['fantasy', 'action', 'comedy']</td>\n",
       "      <td>['GB']</td>\n",
       "      <td>NaN</td>\n",
       "      <td>tt0071853</td>\n",
       "      <td>8.2</td>\n",
       "      <td>534486.0</td>\n",
       "      <td>15.461</td>\n",
       "      <td>7.811</td>\n",
       "    </tr>\n",
       "    <tr>\n",
       "      <th>4</th>\n",
       "      <td>tm120801</td>\n",
       "      <td>The Dirty Dozen</td>\n",
       "      <td>MOVIE</td>\n",
       "      <td>12 American military prisoners in World War II...</td>\n",
       "      <td>1967</td>\n",
       "      <td>NaN</td>\n",
       "      <td>150</td>\n",
       "      <td>['war', 'action']</td>\n",
       "      <td>['GB', 'US']</td>\n",
       "      <td>NaN</td>\n",
       "      <td>tt0061578</td>\n",
       "      <td>7.7</td>\n",
       "      <td>72662.0</td>\n",
       "      <td>20.398</td>\n",
       "      <td>7.600</td>\n",
       "    </tr>\n",
       "  </tbody>\n",
       "</table>\n",
       "</div>"
      ],
      "text/plain": [
       "         id                                title   type  \\\n",
       "0  ts300399  Five Came Back: The Reference Films   SHOW   \n",
       "1   tm84618                          Taxi Driver  MOVIE   \n",
       "2  tm154986                          Deliverance  MOVIE   \n",
       "3  tm127384      Monty Python and the Holy Grail  MOVIE   \n",
       "4  tm120801                      The Dirty Dozen  MOVIE   \n",
       "\n",
       "                                         description  release_year  \\\n",
       "0  This collection includes 12 World War II-era p...          1945   \n",
       "1  A mentally unstable Vietnam War veteran works ...          1976   \n",
       "2  Intent on seeing the Cahulawassee River before...          1972   \n",
       "3  King Arthur, accompanied by his squire, recrui...          1975   \n",
       "4  12 American military prisoners in World War II...          1967   \n",
       "\n",
       "  age_certification  runtime                                       genres  \\\n",
       "0             TV-MA       51                            ['documentation']   \n",
       "1                 R      114                           ['drama', 'crime']   \n",
       "2                 R      109  ['drama', 'action', 'thriller', 'european']   \n",
       "3                PG       91              ['fantasy', 'action', 'comedy']   \n",
       "4               NaN      150                            ['war', 'action']   \n",
       "\n",
       "  production_countries  seasons    imdb_id  imdb_score  imdb_votes  \\\n",
       "0               ['US']      1.0        NaN         NaN         NaN   \n",
       "1               ['US']      NaN  tt0075314         8.2    808582.0   \n",
       "2               ['US']      NaN  tt0068473         7.7    107673.0   \n",
       "3               ['GB']      NaN  tt0071853         8.2    534486.0   \n",
       "4         ['GB', 'US']      NaN  tt0061578         7.7     72662.0   \n",
       "\n",
       "   tmdb_popularity  tmdb_score  \n",
       "0            0.600         NaN  \n",
       "1           40.965       8.179  \n",
       "2           10.010       7.300  \n",
       "3           15.461       7.811  \n",
       "4           20.398       7.600  "
      ]
     },
     "execution_count": 3,
     "metadata": {},
     "output_type": "execute_result"
    }
   ],
   "source": [
    "original_titles.head()"
   ]
  },
  {
   "cell_type": "code",
   "execution_count": 4,
   "id": "76597ee4-0f78-4005-b600-9e4b067319ec",
   "metadata": {},
   "outputs": [
    {
     "data": {
      "text/html": [
       "<div>\n",
       "<style scoped>\n",
       "    .dataframe tbody tr th:only-of-type {\n",
       "        vertical-align: middle;\n",
       "    }\n",
       "\n",
       "    .dataframe tbody tr th {\n",
       "        vertical-align: top;\n",
       "    }\n",
       "\n",
       "    .dataframe thead th {\n",
       "        text-align: right;\n",
       "    }\n",
       "</style>\n",
       "<table border=\"1\" class=\"dataframe\">\n",
       "  <thead>\n",
       "    <tr style=\"text-align: right;\">\n",
       "      <th></th>\n",
       "      <th>person_id</th>\n",
       "      <th>id</th>\n",
       "      <th>name</th>\n",
       "      <th>character</th>\n",
       "      <th>role</th>\n",
       "    </tr>\n",
       "  </thead>\n",
       "  <tbody>\n",
       "    <tr>\n",
       "      <th>0</th>\n",
       "      <td>3748</td>\n",
       "      <td>tm84618</td>\n",
       "      <td>Robert De Niro</td>\n",
       "      <td>Travis Bickle</td>\n",
       "      <td>ACTOR</td>\n",
       "    </tr>\n",
       "    <tr>\n",
       "      <th>1</th>\n",
       "      <td>14658</td>\n",
       "      <td>tm84618</td>\n",
       "      <td>Jodie Foster</td>\n",
       "      <td>Iris Steensma</td>\n",
       "      <td>ACTOR</td>\n",
       "    </tr>\n",
       "    <tr>\n",
       "      <th>2</th>\n",
       "      <td>7064</td>\n",
       "      <td>tm84618</td>\n",
       "      <td>Albert Brooks</td>\n",
       "      <td>Tom</td>\n",
       "      <td>ACTOR</td>\n",
       "    </tr>\n",
       "    <tr>\n",
       "      <th>3</th>\n",
       "      <td>3739</td>\n",
       "      <td>tm84618</td>\n",
       "      <td>Harvey Keitel</td>\n",
       "      <td>Matthew 'Sport' Higgins</td>\n",
       "      <td>ACTOR</td>\n",
       "    </tr>\n",
       "    <tr>\n",
       "      <th>4</th>\n",
       "      <td>48933</td>\n",
       "      <td>tm84618</td>\n",
       "      <td>Cybill Shepherd</td>\n",
       "      <td>Betsy</td>\n",
       "      <td>ACTOR</td>\n",
       "    </tr>\n",
       "  </tbody>\n",
       "</table>\n",
       "</div>"
      ],
      "text/plain": [
       "   person_id       id             name                character   role\n",
       "0       3748  tm84618   Robert De Niro            Travis Bickle  ACTOR\n",
       "1      14658  tm84618     Jodie Foster            Iris Steensma  ACTOR\n",
       "2       7064  tm84618    Albert Brooks                      Tom  ACTOR\n",
       "3       3739  tm84618    Harvey Keitel  Matthew 'Sport' Higgins  ACTOR\n",
       "4      48933  tm84618  Cybill Shepherd                    Betsy  ACTOR"
      ]
     },
     "execution_count": 4,
     "metadata": {},
     "output_type": "execute_result"
    }
   ],
   "source": [
    "original_credits.head()"
   ]
  },
  {
   "cell_type": "markdown",
   "id": "476583a1-396a-4483-9173-1c98501772fd",
   "metadata": {},
   "source": [
    "## 評估和清洗數據"
   ]
  },
  {
   "cell_type": "markdown",
   "id": "4a549eef-78a1-4b36-98b0-115f3aac2e9a",
   "metadata": {},
   "source": [
    "在這部分，我將對前面建立的`original_titles`及`original_credits`的DataFrame所包含的數據進行評估。評估主要從兩個方面進行結構和內容，及整齊度與乾淨度。  \n",
    "1. 數據的結構性問題指不符合以下標準\n",
    "- 每列是一個變量\n",
    "- 每行是一個觀察值\n",
    "- 每個單元格是一個值\n",
    "2. 數據的內容性問題包含以下\n",
    "- 丟失數據\n",
    "- 重複數據\n",
    "- 無效數據  \n",
    "\n",
    "為了區分經過清洗的數據和原始的數據，創建新的變量`cleaned_titles`，讓他為`original_titles`複製出的副本，以及創建新的變量`cleaned_credits`，讓他為`original_credits`複製出的變量。之後清洗步驟將被運用在`cleaned_titles`與`cleaned_credits`之上。"
   ]
  },
  {
   "cell_type": "code",
   "execution_count": 5,
   "id": "7d5a487e-b106-4a45-ac6c-8aa747d62a33",
   "metadata": {},
   "outputs": [],
   "source": [
    "cleaned_titles = original_titles.copy()\n",
    "cleaned_credits = original_credits.copy()"
   ]
  },
  {
   "cell_type": "markdown",
   "id": "2440af00-dbd3-42b0-be0e-835e2a41d6ac",
   "metadata": {},
   "source": [
    "### 數據整齊度"
   ]
  },
  {
   "cell_type": "code",
   "execution_count": 6,
   "id": "f0e01a45-3439-4479-9b9c-6a50a674bf80",
   "metadata": {},
   "outputs": [
    {
     "data": {
      "text/html": [
       "<div>\n",
       "<style scoped>\n",
       "    .dataframe tbody tr th:only-of-type {\n",
       "        vertical-align: middle;\n",
       "    }\n",
       "\n",
       "    .dataframe tbody tr th {\n",
       "        vertical-align: top;\n",
       "    }\n",
       "\n",
       "    .dataframe thead th {\n",
       "        text-align: right;\n",
       "    }\n",
       "</style>\n",
       "<table border=\"1\" class=\"dataframe\">\n",
       "  <thead>\n",
       "    <tr style=\"text-align: right;\">\n",
       "      <th></th>\n",
       "      <th>id</th>\n",
       "      <th>title</th>\n",
       "      <th>type</th>\n",
       "      <th>description</th>\n",
       "      <th>release_year</th>\n",
       "      <th>age_certification</th>\n",
       "      <th>runtime</th>\n",
       "      <th>genres</th>\n",
       "      <th>production_countries</th>\n",
       "      <th>seasons</th>\n",
       "      <th>imdb_id</th>\n",
       "      <th>imdb_score</th>\n",
       "      <th>imdb_votes</th>\n",
       "      <th>tmdb_popularity</th>\n",
       "      <th>tmdb_score</th>\n",
       "    </tr>\n",
       "  </thead>\n",
       "  <tbody>\n",
       "    <tr>\n",
       "      <th>0</th>\n",
       "      <td>ts300399</td>\n",
       "      <td>Five Came Back: The Reference Films</td>\n",
       "      <td>SHOW</td>\n",
       "      <td>This collection includes 12 World War II-era p...</td>\n",
       "      <td>1945</td>\n",
       "      <td>TV-MA</td>\n",
       "      <td>51</td>\n",
       "      <td>['documentation']</td>\n",
       "      <td>['US']</td>\n",
       "      <td>1.0</td>\n",
       "      <td>NaN</td>\n",
       "      <td>NaN</td>\n",
       "      <td>NaN</td>\n",
       "      <td>0.600</td>\n",
       "      <td>NaN</td>\n",
       "    </tr>\n",
       "    <tr>\n",
       "      <th>1</th>\n",
       "      <td>tm84618</td>\n",
       "      <td>Taxi Driver</td>\n",
       "      <td>MOVIE</td>\n",
       "      <td>A mentally unstable Vietnam War veteran works ...</td>\n",
       "      <td>1976</td>\n",
       "      <td>R</td>\n",
       "      <td>114</td>\n",
       "      <td>['drama', 'crime']</td>\n",
       "      <td>['US']</td>\n",
       "      <td>NaN</td>\n",
       "      <td>tt0075314</td>\n",
       "      <td>8.2</td>\n",
       "      <td>808582.0</td>\n",
       "      <td>40.965</td>\n",
       "      <td>8.179</td>\n",
       "    </tr>\n",
       "    <tr>\n",
       "      <th>2</th>\n",
       "      <td>tm154986</td>\n",
       "      <td>Deliverance</td>\n",
       "      <td>MOVIE</td>\n",
       "      <td>Intent on seeing the Cahulawassee River before...</td>\n",
       "      <td>1972</td>\n",
       "      <td>R</td>\n",
       "      <td>109</td>\n",
       "      <td>['drama', 'action', 'thriller', 'european']</td>\n",
       "      <td>['US']</td>\n",
       "      <td>NaN</td>\n",
       "      <td>tt0068473</td>\n",
       "      <td>7.7</td>\n",
       "      <td>107673.0</td>\n",
       "      <td>10.010</td>\n",
       "      <td>7.300</td>\n",
       "    </tr>\n",
       "    <tr>\n",
       "      <th>3</th>\n",
       "      <td>tm127384</td>\n",
       "      <td>Monty Python and the Holy Grail</td>\n",
       "      <td>MOVIE</td>\n",
       "      <td>King Arthur, accompanied by his squire, recrui...</td>\n",
       "      <td>1975</td>\n",
       "      <td>PG</td>\n",
       "      <td>91</td>\n",
       "      <td>['fantasy', 'action', 'comedy']</td>\n",
       "      <td>['GB']</td>\n",
       "      <td>NaN</td>\n",
       "      <td>tt0071853</td>\n",
       "      <td>8.2</td>\n",
       "      <td>534486.0</td>\n",
       "      <td>15.461</td>\n",
       "      <td>7.811</td>\n",
       "    </tr>\n",
       "    <tr>\n",
       "      <th>4</th>\n",
       "      <td>tm120801</td>\n",
       "      <td>The Dirty Dozen</td>\n",
       "      <td>MOVIE</td>\n",
       "      <td>12 American military prisoners in World War II...</td>\n",
       "      <td>1967</td>\n",
       "      <td>NaN</td>\n",
       "      <td>150</td>\n",
       "      <td>['war', 'action']</td>\n",
       "      <td>['GB', 'US']</td>\n",
       "      <td>NaN</td>\n",
       "      <td>tt0061578</td>\n",
       "      <td>7.7</td>\n",
       "      <td>72662.0</td>\n",
       "      <td>20.398</td>\n",
       "      <td>7.600</td>\n",
       "    </tr>\n",
       "  </tbody>\n",
       "</table>\n",
       "</div>"
      ],
      "text/plain": [
       "         id                                title   type  \\\n",
       "0  ts300399  Five Came Back: The Reference Films   SHOW   \n",
       "1   tm84618                          Taxi Driver  MOVIE   \n",
       "2  tm154986                          Deliverance  MOVIE   \n",
       "3  tm127384      Monty Python and the Holy Grail  MOVIE   \n",
       "4  tm120801                      The Dirty Dozen  MOVIE   \n",
       "\n",
       "                                         description  release_year  \\\n",
       "0  This collection includes 12 World War II-era p...          1945   \n",
       "1  A mentally unstable Vietnam War veteran works ...          1976   \n",
       "2  Intent on seeing the Cahulawassee River before...          1972   \n",
       "3  King Arthur, accompanied by his squire, recrui...          1975   \n",
       "4  12 American military prisoners in World War II...          1967   \n",
       "\n",
       "  age_certification  runtime                                       genres  \\\n",
       "0             TV-MA       51                            ['documentation']   \n",
       "1                 R      114                           ['drama', 'crime']   \n",
       "2                 R      109  ['drama', 'action', 'thriller', 'european']   \n",
       "3                PG       91              ['fantasy', 'action', 'comedy']   \n",
       "4               NaN      150                            ['war', 'action']   \n",
       "\n",
       "  production_countries  seasons    imdb_id  imdb_score  imdb_votes  \\\n",
       "0               ['US']      1.0        NaN         NaN         NaN   \n",
       "1               ['US']      NaN  tt0075314         8.2    808582.0   \n",
       "2               ['US']      NaN  tt0068473         7.7    107673.0   \n",
       "3               ['GB']      NaN  tt0071853         8.2    534486.0   \n",
       "4         ['GB', 'US']      NaN  tt0061578         7.7     72662.0   \n",
       "\n",
       "   tmdb_popularity  tmdb_score  \n",
       "0            0.600         NaN  \n",
       "1           40.965       8.179  \n",
       "2           10.010       7.300  \n",
       "3           15.461       7.811  \n",
       "4           20.398       7.600  "
      ]
     },
     "execution_count": 6,
     "metadata": {},
     "output_type": "execute_result"
    }
   ],
   "source": [
    "cleaned_titles.head()"
   ]
  },
  {
   "cell_type": "markdown",
   "id": "6ffaee54-b4a1-427a-be2f-44147f0a6d0d",
   "metadata": {},
   "source": [
    "從數據的前部分來看，`cleaned_titles`裡的`genres`和`production_countries`的變量中包含多個值，應當進行拆分。"
   ]
  },
  {
   "cell_type": "markdown",
   "id": "f8e60e98-fe6e-4f36-9573-454bf68c20c0",
   "metadata": {},
   "source": [
    "先提取任一個`genres`變量的值進行觀察。"
   ]
  },
  {
   "cell_type": "code",
   "execution_count": 7,
   "id": "118399d6-f989-4d6f-9df3-c8857eb842fd",
   "metadata": {},
   "outputs": [
    {
     "data": {
      "text/plain": [
       "\"['drama', 'crime']\""
      ]
     },
     "execution_count": 7,
     "metadata": {},
     "output_type": "execute_result"
    }
   ],
   "source": [
    "cleaned_titles[\"genres\"][1]"
   ]
  },
  {
   "cell_type": "markdown",
   "id": "59c5cdaa-280d-4e21-9e8a-50a8ef503125",
   "metadata": {},
   "source": [
    "雖然`genres`表示形式的列表，但其實際型別非字串列表，而是字串，故無法直接使用`value_counts`統計各個值出現的次數。可以使用`eval`函數，可以將字串轉成表達式。"
   ]
  },
  {
   "cell_type": "code",
   "execution_count": 8,
   "id": "af374f5c-a449-4d02-b9d1-341629113c87",
   "metadata": {},
   "outputs": [
    {
     "data": {
      "text/plain": [
       "['drama', 'crime']"
      ]
     },
     "execution_count": 8,
     "metadata": {},
     "output_type": "execute_result"
    }
   ],
   "source": [
    "cleaned_titles[\"genres\"] = cleaned_titles[\"genres\"].apply(lambda s: eval(s))\n",
    "cleaned_titles[\"genres\"][1]"
   ]
  },
  {
   "cell_type": "markdown",
   "id": "eaa0e36b-7fd4-48bd-9860-1034d3712114",
   "metadata": {},
   "source": [
    "轉換為列表後，就能用DataFrame的`explode`方法，可以將列表值拆成單獨欄位。"
   ]
  },
  {
   "cell_type": "code",
   "execution_count": 9,
   "id": "c29adfc6-a571-4bc2-8f9a-313421484691",
   "metadata": {},
   "outputs": [
    {
     "data": {
      "text/html": [
       "<div>\n",
       "<style scoped>\n",
       "    .dataframe tbody tr th:only-of-type {\n",
       "        vertical-align: middle;\n",
       "    }\n",
       "\n",
       "    .dataframe tbody tr th {\n",
       "        vertical-align: top;\n",
       "    }\n",
       "\n",
       "    .dataframe thead th {\n",
       "        text-align: right;\n",
       "    }\n",
       "</style>\n",
       "<table border=\"1\" class=\"dataframe\">\n",
       "  <thead>\n",
       "    <tr style=\"text-align: right;\">\n",
       "      <th></th>\n",
       "      <th>id</th>\n",
       "      <th>title</th>\n",
       "      <th>type</th>\n",
       "      <th>description</th>\n",
       "      <th>release_year</th>\n",
       "      <th>age_certification</th>\n",
       "      <th>runtime</th>\n",
       "      <th>genres</th>\n",
       "      <th>production_countries</th>\n",
       "      <th>seasons</th>\n",
       "      <th>imdb_id</th>\n",
       "      <th>imdb_score</th>\n",
       "      <th>imdb_votes</th>\n",
       "      <th>tmdb_popularity</th>\n",
       "      <th>tmdb_score</th>\n",
       "    </tr>\n",
       "  </thead>\n",
       "  <tbody>\n",
       "    <tr>\n",
       "      <th>0</th>\n",
       "      <td>ts300399</td>\n",
       "      <td>Five Came Back: The Reference Films</td>\n",
       "      <td>SHOW</td>\n",
       "      <td>This collection includes 12 World War II-era p...</td>\n",
       "      <td>1945</td>\n",
       "      <td>TV-MA</td>\n",
       "      <td>51</td>\n",
       "      <td>documentation</td>\n",
       "      <td>['US']</td>\n",
       "      <td>1.0</td>\n",
       "      <td>NaN</td>\n",
       "      <td>NaN</td>\n",
       "      <td>NaN</td>\n",
       "      <td>0.600</td>\n",
       "      <td>NaN</td>\n",
       "    </tr>\n",
       "    <tr>\n",
       "      <th>1</th>\n",
       "      <td>tm84618</td>\n",
       "      <td>Taxi Driver</td>\n",
       "      <td>MOVIE</td>\n",
       "      <td>A mentally unstable Vietnam War veteran works ...</td>\n",
       "      <td>1976</td>\n",
       "      <td>R</td>\n",
       "      <td>114</td>\n",
       "      <td>drama</td>\n",
       "      <td>['US']</td>\n",
       "      <td>NaN</td>\n",
       "      <td>tt0075314</td>\n",
       "      <td>8.2</td>\n",
       "      <td>808582.0</td>\n",
       "      <td>40.965</td>\n",
       "      <td>8.179</td>\n",
       "    </tr>\n",
       "    <tr>\n",
       "      <th>1</th>\n",
       "      <td>tm84618</td>\n",
       "      <td>Taxi Driver</td>\n",
       "      <td>MOVIE</td>\n",
       "      <td>A mentally unstable Vietnam War veteran works ...</td>\n",
       "      <td>1976</td>\n",
       "      <td>R</td>\n",
       "      <td>114</td>\n",
       "      <td>crime</td>\n",
       "      <td>['US']</td>\n",
       "      <td>NaN</td>\n",
       "      <td>tt0075314</td>\n",
       "      <td>8.2</td>\n",
       "      <td>808582.0</td>\n",
       "      <td>40.965</td>\n",
       "      <td>8.179</td>\n",
       "    </tr>\n",
       "    <tr>\n",
       "      <th>2</th>\n",
       "      <td>tm154986</td>\n",
       "      <td>Deliverance</td>\n",
       "      <td>MOVIE</td>\n",
       "      <td>Intent on seeing the Cahulawassee River before...</td>\n",
       "      <td>1972</td>\n",
       "      <td>R</td>\n",
       "      <td>109</td>\n",
       "      <td>drama</td>\n",
       "      <td>['US']</td>\n",
       "      <td>NaN</td>\n",
       "      <td>tt0068473</td>\n",
       "      <td>7.7</td>\n",
       "      <td>107673.0</td>\n",
       "      <td>10.010</td>\n",
       "      <td>7.300</td>\n",
       "    </tr>\n",
       "    <tr>\n",
       "      <th>2</th>\n",
       "      <td>tm154986</td>\n",
       "      <td>Deliverance</td>\n",
       "      <td>MOVIE</td>\n",
       "      <td>Intent on seeing the Cahulawassee River before...</td>\n",
       "      <td>1972</td>\n",
       "      <td>R</td>\n",
       "      <td>109</td>\n",
       "      <td>action</td>\n",
       "      <td>['US']</td>\n",
       "      <td>NaN</td>\n",
       "      <td>tt0068473</td>\n",
       "      <td>7.7</td>\n",
       "      <td>107673.0</td>\n",
       "      <td>10.010</td>\n",
       "      <td>7.300</td>\n",
       "    </tr>\n",
       "  </tbody>\n",
       "</table>\n",
       "</div>"
      ],
      "text/plain": [
       "         id                                title   type  \\\n",
       "0  ts300399  Five Came Back: The Reference Films   SHOW   \n",
       "1   tm84618                          Taxi Driver  MOVIE   \n",
       "1   tm84618                          Taxi Driver  MOVIE   \n",
       "2  tm154986                          Deliverance  MOVIE   \n",
       "2  tm154986                          Deliverance  MOVIE   \n",
       "\n",
       "                                         description  release_year  \\\n",
       "0  This collection includes 12 World War II-era p...          1945   \n",
       "1  A mentally unstable Vietnam War veteran works ...          1976   \n",
       "1  A mentally unstable Vietnam War veteran works ...          1976   \n",
       "2  Intent on seeing the Cahulawassee River before...          1972   \n",
       "2  Intent on seeing the Cahulawassee River before...          1972   \n",
       "\n",
       "  age_certification  runtime         genres production_countries  seasons  \\\n",
       "0             TV-MA       51  documentation               ['US']      1.0   \n",
       "1                 R      114          drama               ['US']      NaN   \n",
       "1                 R      114          crime               ['US']      NaN   \n",
       "2                 R      109          drama               ['US']      NaN   \n",
       "2                 R      109         action               ['US']      NaN   \n",
       "\n",
       "     imdb_id  imdb_score  imdb_votes  tmdb_popularity  tmdb_score  \n",
       "0        NaN         NaN         NaN            0.600         NaN  \n",
       "1  tt0075314         8.2    808582.0           40.965       8.179  \n",
       "1  tt0075314         8.2    808582.0           40.965       8.179  \n",
       "2  tt0068473         7.7    107673.0           10.010       7.300  \n",
       "2  tt0068473         7.7    107673.0           10.010       7.300  "
      ]
     },
     "execution_count": 9,
     "metadata": {},
     "output_type": "execute_result"
    }
   ],
   "source": [
    "cleaned_titles = cleaned_titles.explode(\"genres\")\n",
    "cleaned_titles.head()"
   ]
  },
  {
   "cell_type": "markdown",
   "id": "03395d37-032d-4e09-977d-6fb773201224",
   "metadata": {},
   "source": [
    "接下來，針對`production_countries`欄位也是一樣的流程。每個觀察值的`production_countries`值並非單個流派，而是一系列流派。  \n",
    "先提取任一個`production_countries`變量值進行觀察。"
   ]
  },
  {
   "cell_type": "code",
   "execution_count": 10,
   "id": "02655cc4-576b-4789-b8b9-dd933921433b",
   "metadata": {},
   "outputs": [
    {
     "data": {
      "text/plain": [
       "1    ['US']\n",
       "1    ['US']\n",
       "Name: production_countries, dtype: object"
      ]
     },
     "execution_count": 10,
     "metadata": {},
     "output_type": "execute_result"
    }
   ],
   "source": [
    "cleaned_titles[\"production_countries\"][1]"
   ]
  },
  {
   "cell_type": "markdown",
   "id": "629d35d1-dc5f-46bd-85c6-8cdb7adb7d24",
   "metadata": {},
   "source": [
    "可以得出，`production_countries`也是一樣的問題，雖然表示形式是列表，但實際類型非字串列表，而是字串，需再次使用`eval`函數進行類型轉換，並檢查結果。"
   ]
  },
  {
   "cell_type": "code",
   "execution_count": 11,
   "id": "49d7997b-ddec-41fc-a4e8-54e48d759ad2",
   "metadata": {},
   "outputs": [
    {
     "data": {
      "text/plain": [
       "['US']"
      ]
     },
     "execution_count": 11,
     "metadata": {},
     "output_type": "execute_result"
    }
   ],
   "source": [
    "cleaned_titles[\"production_countries\"] = cleaned_titles[\"production_countries\"].apply(lambda s: eval(s))\n",
    "cleaned_titles[\"production_countries\"][0]"
   ]
  },
  {
   "cell_type": "markdown",
   "id": "05af22a0-b1a2-419c-8e84-ddfa77a9fcf4",
   "metadata": {},
   "source": [
    "確認類型轉換完畢後，還是用`explode`方法，把欄位值拆分成單獨的行。"
   ]
  },
  {
   "cell_type": "code",
   "execution_count": 12,
   "id": "0a83bca5-7f4a-45df-a30f-3fee4934b708",
   "metadata": {},
   "outputs": [
    {
     "data": {
      "text/html": [
       "<div>\n",
       "<style scoped>\n",
       "    .dataframe tbody tr th:only-of-type {\n",
       "        vertical-align: middle;\n",
       "    }\n",
       "\n",
       "    .dataframe tbody tr th {\n",
       "        vertical-align: top;\n",
       "    }\n",
       "\n",
       "    .dataframe thead th {\n",
       "        text-align: right;\n",
       "    }\n",
       "</style>\n",
       "<table border=\"1\" class=\"dataframe\">\n",
       "  <thead>\n",
       "    <tr style=\"text-align: right;\">\n",
       "      <th></th>\n",
       "      <th>id</th>\n",
       "      <th>title</th>\n",
       "      <th>type</th>\n",
       "      <th>description</th>\n",
       "      <th>release_year</th>\n",
       "      <th>age_certification</th>\n",
       "      <th>runtime</th>\n",
       "      <th>genres</th>\n",
       "      <th>production_countries</th>\n",
       "      <th>seasons</th>\n",
       "      <th>imdb_id</th>\n",
       "      <th>imdb_score</th>\n",
       "      <th>imdb_votes</th>\n",
       "      <th>tmdb_popularity</th>\n",
       "      <th>tmdb_score</th>\n",
       "    </tr>\n",
       "  </thead>\n",
       "  <tbody>\n",
       "    <tr>\n",
       "      <th>0</th>\n",
       "      <td>ts300399</td>\n",
       "      <td>Five Came Back: The Reference Films</td>\n",
       "      <td>SHOW</td>\n",
       "      <td>This collection includes 12 World War II-era p...</td>\n",
       "      <td>1945</td>\n",
       "      <td>TV-MA</td>\n",
       "      <td>51</td>\n",
       "      <td>documentation</td>\n",
       "      <td>US</td>\n",
       "      <td>1.0</td>\n",
       "      <td>NaN</td>\n",
       "      <td>NaN</td>\n",
       "      <td>NaN</td>\n",
       "      <td>0.600</td>\n",
       "      <td>NaN</td>\n",
       "    </tr>\n",
       "    <tr>\n",
       "      <th>1</th>\n",
       "      <td>tm84618</td>\n",
       "      <td>Taxi Driver</td>\n",
       "      <td>MOVIE</td>\n",
       "      <td>A mentally unstable Vietnam War veteran works ...</td>\n",
       "      <td>1976</td>\n",
       "      <td>R</td>\n",
       "      <td>114</td>\n",
       "      <td>drama</td>\n",
       "      <td>US</td>\n",
       "      <td>NaN</td>\n",
       "      <td>tt0075314</td>\n",
       "      <td>8.2</td>\n",
       "      <td>808582.0</td>\n",
       "      <td>40.965</td>\n",
       "      <td>8.179</td>\n",
       "    </tr>\n",
       "    <tr>\n",
       "      <th>1</th>\n",
       "      <td>tm84618</td>\n",
       "      <td>Taxi Driver</td>\n",
       "      <td>MOVIE</td>\n",
       "      <td>A mentally unstable Vietnam War veteran works ...</td>\n",
       "      <td>1976</td>\n",
       "      <td>R</td>\n",
       "      <td>114</td>\n",
       "      <td>crime</td>\n",
       "      <td>US</td>\n",
       "      <td>NaN</td>\n",
       "      <td>tt0075314</td>\n",
       "      <td>8.2</td>\n",
       "      <td>808582.0</td>\n",
       "      <td>40.965</td>\n",
       "      <td>8.179</td>\n",
       "    </tr>\n",
       "    <tr>\n",
       "      <th>2</th>\n",
       "      <td>tm154986</td>\n",
       "      <td>Deliverance</td>\n",
       "      <td>MOVIE</td>\n",
       "      <td>Intent on seeing the Cahulawassee River before...</td>\n",
       "      <td>1972</td>\n",
       "      <td>R</td>\n",
       "      <td>109</td>\n",
       "      <td>drama</td>\n",
       "      <td>US</td>\n",
       "      <td>NaN</td>\n",
       "      <td>tt0068473</td>\n",
       "      <td>7.7</td>\n",
       "      <td>107673.0</td>\n",
       "      <td>10.010</td>\n",
       "      <td>7.300</td>\n",
       "    </tr>\n",
       "    <tr>\n",
       "      <th>2</th>\n",
       "      <td>tm154986</td>\n",
       "      <td>Deliverance</td>\n",
       "      <td>MOVIE</td>\n",
       "      <td>Intent on seeing the Cahulawassee River before...</td>\n",
       "      <td>1972</td>\n",
       "      <td>R</td>\n",
       "      <td>109</td>\n",
       "      <td>action</td>\n",
       "      <td>US</td>\n",
       "      <td>NaN</td>\n",
       "      <td>tt0068473</td>\n",
       "      <td>7.7</td>\n",
       "      <td>107673.0</td>\n",
       "      <td>10.010</td>\n",
       "      <td>7.300</td>\n",
       "    </tr>\n",
       "  </tbody>\n",
       "</table>\n",
       "</div>"
      ],
      "text/plain": [
       "         id                                title   type  \\\n",
       "0  ts300399  Five Came Back: The Reference Films   SHOW   \n",
       "1   tm84618                          Taxi Driver  MOVIE   \n",
       "1   tm84618                          Taxi Driver  MOVIE   \n",
       "2  tm154986                          Deliverance  MOVIE   \n",
       "2  tm154986                          Deliverance  MOVIE   \n",
       "\n",
       "                                         description  release_year  \\\n",
       "0  This collection includes 12 World War II-era p...          1945   \n",
       "1  A mentally unstable Vietnam War veteran works ...          1976   \n",
       "1  A mentally unstable Vietnam War veteran works ...          1976   \n",
       "2  Intent on seeing the Cahulawassee River before...          1972   \n",
       "2  Intent on seeing the Cahulawassee River before...          1972   \n",
       "\n",
       "  age_certification  runtime         genres production_countries  seasons  \\\n",
       "0             TV-MA       51  documentation                   US      1.0   \n",
       "1                 R      114          drama                   US      NaN   \n",
       "1                 R      114          crime                   US      NaN   \n",
       "2                 R      109          drama                   US      NaN   \n",
       "2                 R      109         action                   US      NaN   \n",
       "\n",
       "     imdb_id  imdb_score  imdb_votes  tmdb_popularity  tmdb_score  \n",
       "0        NaN         NaN         NaN            0.600         NaN  \n",
       "1  tt0075314         8.2    808582.0           40.965       8.179  \n",
       "1  tt0075314         8.2    808582.0           40.965       8.179  \n",
       "2  tt0068473         7.7    107673.0           10.010       7.300  \n",
       "2  tt0068473         7.7    107673.0           10.010       7.300  "
      ]
     },
     "execution_count": 12,
     "metadata": {},
     "output_type": "execute_result"
    }
   ],
   "source": [
    "cleaned_titles = cleaned_titles.explode(\"production_countries\")\n",
    "cleaned_titles.head()"
   ]
  },
  {
   "cell_type": "markdown",
   "id": "f1983a9b-4ab5-423e-a448-77044064faee",
   "metadata": {},
   "source": [
    "在處理完`cleaned_titles`的結構性問題後，查看`cleaned_credits`。"
   ]
  },
  {
   "cell_type": "code",
   "execution_count": 13,
   "id": "71085934-75ae-4061-82c0-fa2ea9c715b5",
   "metadata": {},
   "outputs": [
    {
     "data": {
      "text/html": [
       "<div>\n",
       "<style scoped>\n",
       "    .dataframe tbody tr th:only-of-type {\n",
       "        vertical-align: middle;\n",
       "    }\n",
       "\n",
       "    .dataframe tbody tr th {\n",
       "        vertical-align: top;\n",
       "    }\n",
       "\n",
       "    .dataframe thead th {\n",
       "        text-align: right;\n",
       "    }\n",
       "</style>\n",
       "<table border=\"1\" class=\"dataframe\">\n",
       "  <thead>\n",
       "    <tr style=\"text-align: right;\">\n",
       "      <th></th>\n",
       "      <th>id</th>\n",
       "      <th>title</th>\n",
       "      <th>type</th>\n",
       "      <th>description</th>\n",
       "      <th>release_year</th>\n",
       "      <th>age_certification</th>\n",
       "      <th>runtime</th>\n",
       "      <th>genres</th>\n",
       "      <th>production_countries</th>\n",
       "      <th>seasons</th>\n",
       "      <th>imdb_id</th>\n",
       "      <th>imdb_score</th>\n",
       "      <th>imdb_votes</th>\n",
       "      <th>tmdb_popularity</th>\n",
       "      <th>tmdb_score</th>\n",
       "    </tr>\n",
       "  </thead>\n",
       "  <tbody>\n",
       "    <tr>\n",
       "      <th>0</th>\n",
       "      <td>ts300399</td>\n",
       "      <td>Five Came Back: The Reference Films</td>\n",
       "      <td>SHOW</td>\n",
       "      <td>This collection includes 12 World War II-era p...</td>\n",
       "      <td>1945</td>\n",
       "      <td>TV-MA</td>\n",
       "      <td>51</td>\n",
       "      <td>documentation</td>\n",
       "      <td>US</td>\n",
       "      <td>1.0</td>\n",
       "      <td>NaN</td>\n",
       "      <td>NaN</td>\n",
       "      <td>NaN</td>\n",
       "      <td>0.600</td>\n",
       "      <td>NaN</td>\n",
       "    </tr>\n",
       "    <tr>\n",
       "      <th>1</th>\n",
       "      <td>tm84618</td>\n",
       "      <td>Taxi Driver</td>\n",
       "      <td>MOVIE</td>\n",
       "      <td>A mentally unstable Vietnam War veteran works ...</td>\n",
       "      <td>1976</td>\n",
       "      <td>R</td>\n",
       "      <td>114</td>\n",
       "      <td>drama</td>\n",
       "      <td>US</td>\n",
       "      <td>NaN</td>\n",
       "      <td>tt0075314</td>\n",
       "      <td>8.2</td>\n",
       "      <td>808582.0</td>\n",
       "      <td>40.965</td>\n",
       "      <td>8.179</td>\n",
       "    </tr>\n",
       "    <tr>\n",
       "      <th>1</th>\n",
       "      <td>tm84618</td>\n",
       "      <td>Taxi Driver</td>\n",
       "      <td>MOVIE</td>\n",
       "      <td>A mentally unstable Vietnam War veteran works ...</td>\n",
       "      <td>1976</td>\n",
       "      <td>R</td>\n",
       "      <td>114</td>\n",
       "      <td>crime</td>\n",
       "      <td>US</td>\n",
       "      <td>NaN</td>\n",
       "      <td>tt0075314</td>\n",
       "      <td>8.2</td>\n",
       "      <td>808582.0</td>\n",
       "      <td>40.965</td>\n",
       "      <td>8.179</td>\n",
       "    </tr>\n",
       "    <tr>\n",
       "      <th>2</th>\n",
       "      <td>tm154986</td>\n",
       "      <td>Deliverance</td>\n",
       "      <td>MOVIE</td>\n",
       "      <td>Intent on seeing the Cahulawassee River before...</td>\n",
       "      <td>1972</td>\n",
       "      <td>R</td>\n",
       "      <td>109</td>\n",
       "      <td>drama</td>\n",
       "      <td>US</td>\n",
       "      <td>NaN</td>\n",
       "      <td>tt0068473</td>\n",
       "      <td>7.7</td>\n",
       "      <td>107673.0</td>\n",
       "      <td>10.010</td>\n",
       "      <td>7.300</td>\n",
       "    </tr>\n",
       "    <tr>\n",
       "      <th>2</th>\n",
       "      <td>tm154986</td>\n",
       "      <td>Deliverance</td>\n",
       "      <td>MOVIE</td>\n",
       "      <td>Intent on seeing the Cahulawassee River before...</td>\n",
       "      <td>1972</td>\n",
       "      <td>R</td>\n",
       "      <td>109</td>\n",
       "      <td>action</td>\n",
       "      <td>US</td>\n",
       "      <td>NaN</td>\n",
       "      <td>tt0068473</td>\n",
       "      <td>7.7</td>\n",
       "      <td>107673.0</td>\n",
       "      <td>10.010</td>\n",
       "      <td>7.300</td>\n",
       "    </tr>\n",
       "  </tbody>\n",
       "</table>\n",
       "</div>"
      ],
      "text/plain": [
       "         id                                title   type  \\\n",
       "0  ts300399  Five Came Back: The Reference Films   SHOW   \n",
       "1   tm84618                          Taxi Driver  MOVIE   \n",
       "1   tm84618                          Taxi Driver  MOVIE   \n",
       "2  tm154986                          Deliverance  MOVIE   \n",
       "2  tm154986                          Deliverance  MOVIE   \n",
       "\n",
       "                                         description  release_year  \\\n",
       "0  This collection includes 12 World War II-era p...          1945   \n",
       "1  A mentally unstable Vietnam War veteran works ...          1976   \n",
       "1  A mentally unstable Vietnam War veteran works ...          1976   \n",
       "2  Intent on seeing the Cahulawassee River before...          1972   \n",
       "2  Intent on seeing the Cahulawassee River before...          1972   \n",
       "\n",
       "  age_certification  runtime         genres production_countries  seasons  \\\n",
       "0             TV-MA       51  documentation                   US      1.0   \n",
       "1                 R      114          drama                   US      NaN   \n",
       "1                 R      114          crime                   US      NaN   \n",
       "2                 R      109          drama                   US      NaN   \n",
       "2                 R      109         action                   US      NaN   \n",
       "\n",
       "     imdb_id  imdb_score  imdb_votes  tmdb_popularity  tmdb_score  \n",
       "0        NaN         NaN         NaN            0.600         NaN  \n",
       "1  tt0075314         8.2    808582.0           40.965       8.179  \n",
       "1  tt0075314         8.2    808582.0           40.965       8.179  \n",
       "2  tt0068473         7.7    107673.0           10.010       7.300  \n",
       "2  tt0068473         7.7    107673.0           10.010       7.300  "
      ]
     },
     "execution_count": 13,
     "metadata": {},
     "output_type": "execute_result"
    }
   ],
   "source": [
    "cleaned_titles.head()"
   ]
  },
  {
   "cell_type": "markdown",
   "id": "57ec6fec-e74a-43d5-86b3-e1445d030bf7",
   "metadata": {},
   "source": [
    "從數據的前部分來看，`cleaned_credits`數據符合結構性標準，因此不存在結構性問題。"
   ]
  },
  {
   "cell_type": "markdown",
   "id": "26ff9d3e-1b41-4a3c-99fc-9f29eeb42c80",
   "metadata": {},
   "source": [
    "### 數據乾淨度"
   ]
  },
  {
   "cell_type": "markdown",
   "id": "6fd328c5-6626-488b-b198-d6b02f2733c2",
   "metadata": {},
   "source": [
    "接下來透過`info`，對數據內容進行初步暸解。"
   ]
  },
  {
   "cell_type": "code",
   "execution_count": 14,
   "id": "dec73e0f-5887-4c63-9498-c0cffe927381",
   "metadata": {},
   "outputs": [
    {
     "name": "stdout",
     "output_type": "stream",
     "text": [
      "<class 'pandas.core.frame.DataFrame'>\n",
      "Index: 17818 entries, 0 to 5849\n",
      "Data columns (total 15 columns):\n",
      " #   Column                Non-Null Count  Dtype  \n",
      "---  ------                --------------  -----  \n",
      " 0   id                    17818 non-null  object \n",
      " 1   title                 17817 non-null  object \n",
      " 2   type                  17818 non-null  object \n",
      " 3   description           17790 non-null  object \n",
      " 4   release_year          17818 non-null  int64  \n",
      " 5   age_certification     10889 non-null  object \n",
      " 6   runtime               17818 non-null  int64  \n",
      " 7   genres                17755 non-null  object \n",
      " 8   production_countries  17439 non-null  object \n",
      " 9   seasons               6224 non-null   float64\n",
      " 10  imdb_id               17116 non-null  object \n",
      " 11  imdb_score            16976 non-null  float64\n",
      " 12  imdb_votes            16945 non-null  float64\n",
      " 13  tmdb_popularity       17663 non-null  float64\n",
      " 14  tmdb_score            17241 non-null  float64\n",
      "dtypes: float64(5), int64(2), object(8)\n",
      "memory usage: 2.2+ MB\n"
     ]
    }
   ],
   "source": [
    "cleaned_titles.info()"
   ]
  },
  {
   "cell_type": "markdown",
   "id": "bb885cce-d1b3-4d82-8e14-65eb454d89da",
   "metadata": {},
   "source": [
    "從輸出結果來看，`cleaned_titles`數據夠有17818條觀察值，`title`、`description`、`age_certification`、`genres`、`production_countries`、`seasons`、`imdb_id`、`imdb_score`、`tmdb_popularity`、`tmdb_score`、`imdb_scores`變量均存在缺失值，將在後續進行評估和清洗。  \n",
    "此外，`release_year`表示年份，數據類型不應為數字，應為日期，故需進行類型轉換。"
   ]
  },
  {
   "cell_type": "code",
   "execution_count": 16,
   "id": "2d52ad62-6e78-4bab-910c-3ac58bb66f10",
   "metadata": {},
   "outputs": [
    {
     "data": {
      "text/plain": [
       "0      1945-01-01\n",
       "1      1976-01-01\n",
       "1      1976-01-01\n",
       "2      1972-01-01\n",
       "2      1972-01-01\n",
       "          ...    \n",
       "5847   2021-01-01\n",
       "5848   2021-01-01\n",
       "5849   2021-01-01\n",
       "5849   2021-01-01\n",
       "5849   2021-01-01\n",
       "Name: release_year, Length: 17818, dtype: datetime64[ns]"
      ]
     },
     "execution_count": 16,
     "metadata": {},
     "output_type": "execute_result"
    }
   ],
   "source": [
    "cleaned_titles[\"release_year\"] = pd.to_datetime(cleaned_titles[\"release_year\"], format=\"%Y\")\n",
    "cleaned_titles[\"release_year\"]"
   ]
  },
  {
   "cell_type": "code",
   "execution_count": 17,
   "id": "2708322a-b77d-49c6-9299-c138882251b7",
   "metadata": {},
   "outputs": [
    {
     "name": "stdout",
     "output_type": "stream",
     "text": [
      "<class 'pandas.core.frame.DataFrame'>\n",
      "RangeIndex: 77801 entries, 0 to 77800\n",
      "Data columns (total 5 columns):\n",
      " #   Column     Non-Null Count  Dtype \n",
      "---  ------     --------------  ----- \n",
      " 0   person_id  77801 non-null  int64 \n",
      " 1   id         77801 non-null  object\n",
      " 2   name       77801 non-null  object\n",
      " 3   character  68029 non-null  object\n",
      " 4   role       77801 non-null  object\n",
      "dtypes: int64(1), object(4)\n",
      "memory usage: 3.0+ MB\n"
     ]
    }
   ],
   "source": [
    "cleaned_credits.info()"
   ]
  },
  {
   "cell_type": "markdown",
   "id": "f5f47fef-ca09-4409-b5d9-5cad008abea7",
   "metadata": {},
   "source": [
    "從輸出結果來看，`cleaned_credits`數據共有77801條觀察值，其中`character`變量存在觀察值，將在其後進行評估和清洗。  \n",
    "此外，`person_id`表示演職員ID，數據類型不應為數字，應為字串，故需進行類型轉換。"
   ]
  },
  {
   "cell_type": "code",
   "execution_count": 18,
   "id": "b7614fd2-ee9e-470a-bd72-3e695ec033e6",
   "metadata": {},
   "outputs": [
    {
     "data": {
      "text/plain": [
       "0           3748\n",
       "1          14658\n",
       "2           7064\n",
       "3           3739\n",
       "4          48933\n",
       "          ...   \n",
       "77796     736339\n",
       "77797     399499\n",
       "77798     373198\n",
       "77799     378132\n",
       "77800    1950416\n",
       "Name: person_id, Length: 77801, dtype: string"
      ]
     },
     "execution_count": 18,
     "metadata": {},
     "output_type": "execute_result"
    }
   ],
   "source": [
    "cleaned_credits[\"person_id\"] = cleaned_credits[\"person_id\"].astype(\"string\")\n",
    "cleaned_credits[\"person_id\"]"
   ]
  },
  {
   "cell_type": "markdown",
   "id": "8c0c7626-8f57-4877-9893-dbaeaf800eb9",
   "metadata": {},
   "source": [
    "### 處理缺失數據"
   ]
  },
  {
   "cell_type": "code",
   "execution_count": null,
   "id": "61f77e8b-0e21-41a2-b13c-abe3d50a7a61",
   "metadata": {},
   "outputs": [],
   "source": []
  },
  {
   "cell_type": "code",
   "execution_count": null,
   "id": "f8ae0af4-e8ae-4228-a4ed-2e864f567409",
   "metadata": {},
   "outputs": [],
   "source": []
  },
  {
   "cell_type": "code",
   "execution_count": null,
   "id": "d173f769-096e-4df5-88c7-93a41f6ab81a",
   "metadata": {},
   "outputs": [],
   "source": []
  },
  {
   "cell_type": "code",
   "execution_count": null,
   "id": "4c04252d-d5d8-4757-b784-74e972fee2b6",
   "metadata": {},
   "outputs": [],
   "source": []
  },
  {
   "cell_type": "code",
   "execution_count": null,
   "id": "977129b2-b39f-4b1d-99f9-27a012361648",
   "metadata": {},
   "outputs": [],
   "source": []
  },
  {
   "cell_type": "markdown",
   "id": "1331563e-704e-49d3-9695-246428b12631",
   "metadata": {},
   "source": [
    "## 清洗數據"
   ]
  },
  {
   "cell_type": "code",
   "execution_count": null,
   "id": "8ca8b4ad-451a-4535-8cf1-9a16edbadca0",
   "metadata": {},
   "outputs": [],
   "source": []
  },
  {
   "cell_type": "code",
   "execution_count": null,
   "id": "860eaf0d-66b2-45c4-a873-af977abce22f",
   "metadata": {},
   "outputs": [],
   "source": []
  },
  {
   "cell_type": "code",
   "execution_count": null,
   "id": "7efefbe4-96e7-4018-9795-52e1535b2db4",
   "metadata": {},
   "outputs": [],
   "source": []
  },
  {
   "cell_type": "code",
   "execution_count": null,
   "id": "22d2d8ed-139e-41c5-8dd8-238ffe49f536",
   "metadata": {},
   "outputs": [],
   "source": []
  }
 ],
 "metadata": {
  "kernelspec": {
   "display_name": "Python 3 (ipykernel)",
   "language": "python",
   "name": "python3"
  },
  "language_info": {
   "codemirror_mode": {
    "name": "ipython",
    "version": 3
   },
   "file_extension": ".py",
   "mimetype": "text/x-python",
   "name": "python",
   "nbconvert_exporter": "python",
   "pygments_lexer": "ipython3",
   "version": "3.12.2"
  }
 },
 "nbformat": 4,
 "nbformat_minor": 5
}
